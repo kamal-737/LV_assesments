{
  "nbformat": 4,
  "nbformat_minor": 0,
  "metadata": {
    "colab": {
      "provenance": []
    },
    "kernelspec": {
      "name": "python3",
      "display_name": "Python 3"
    },
    "language_info": {
      "name": "python"
    }
  },
  "cells": [
    {
      "cell_type": "code",
      "execution_count": 1,
      "metadata": {
        "colab": {
          "base_uri": "https://localhost:8080/",
          "height": 0
        },
        "id": "N4Eiu4Bjejty",
        "outputId": "d4c4c810-472f-4a93-b736-bf90de28f8d5"
      },
      "outputs": [
        {
          "output_type": "stream",
          "name": "stdout",
          "text": [
            "Enter the length5\n",
            "Enter the width4\n",
            "The area of the rectangle is 20\n"
          ]
        }
      ],
      "source": [
        "#1\n",
        "\n",
        "l = int(input(\"Enter the length \"))\n",
        "w = int(input(\"Enter the width \"))\n",
        "area = l*w\n",
        "print(f'The area of the rectangle is {area}')"
      ]
    },
    {
      "cell_type": "code",
      "source": [
        "#2\n",
        "\n",
        "wt = int(input(\"Enter the Weight in Kg \"))\n",
        "ht = float(input(\"Enter the Height in Meters \"))\n",
        "bmi = round(wt/(ht*ht),2)\n",
        "print(f'Your body mass index is {bmi}')\n"
      ],
      "metadata": {
        "colab": {
          "base_uri": "https://localhost:8080/",
          "height": 0
        },
        "id": "jUoIk63OfAlv",
        "outputId": "bb9e26bd-e2f2-453e-b1dc-f391e3b25006"
      },
      "execution_count": 4,
      "outputs": [
        {
          "output_type": "stream",
          "name": "stdout",
          "text": [
            "Enter the Weight in Kg 72\n",
            "Enter the Height in Meters 1.74\n",
            "Your body mass index is 24\n"
          ]
        }
      ]
    },
    {
      "cell_type": "code",
      "source": [
        "#3\n",
        "dict_1 = {}\n",
        "\n",
        "while(1):\n",
        "  a= input(\"do you want to add information? y/n \")\n",
        "  if(a.lower()== 'y'):\n",
        "    name = input(\"Enter Name \")\n",
        "    score = int(input(\"Enter Score \"))\n",
        "    dict_1[name]=score\n",
        "  else:\n",
        "    break\n"
      ],
      "metadata": {
        "colab": {
          "base_uri": "https://localhost:8080/",
          "height": 0
        },
        "id": "U9sZD8fxfwmq",
        "outputId": "dd75cfe7-73bc-4afb-bdb4-b74d11fbfc4f"
      },
      "execution_count": 6,
      "outputs": [
        {
          "name": "stdout",
          "output_type": "stream",
          "text": [
            "do you want to add information? y/ny\n",
            "Enter Name geisha\n",
            "Enter Score 69\n",
            "do you want to add information? y/nn\n"
          ]
        }
      ]
    },
    {
      "cell_type": "code",
      "source": [
        "#4\n",
        "age = int(input(\"Enter you age \"))\n",
        "if age < 18:\n",
        "  print(\"Minor\")\n",
        "elif (age >= 18 and age <60):\n",
        "  print(\"Adult\")\n",
        "else:\n",
        "  print(\"Senior\")\n"
      ],
      "metadata": {
        "colab": {
          "base_uri": "https://localhost:8080/",
          "height": 0
        },
        "id": "i_cZDlEcgVR0",
        "outputId": "d1d81767-0a14-46b1-cb2a-c1ed74f1fb44"
      },
      "execution_count": 9,
      "outputs": [
        {
          "output_type": "stream",
          "name": "stdout",
          "text": [
            "Enter you age 99\n",
            "Senior\n"
          ]
        }
      ]
    },
    {
      "cell_type": "code",
      "source": [
        "#5\n",
        "for i in range(2,51,2):\n",
        "  print(i)\n"
      ],
      "metadata": {
        "colab": {
          "base_uri": "https://localhost:8080/",
          "height": 0
        },
        "id": "RLvPrs2MhOpo",
        "outputId": "01efa55f-8c6a-45dc-9044-593489dc8d95"
      },
      "execution_count": 12,
      "outputs": [
        {
          "output_type": "stream",
          "name": "stdout",
          "text": [
            "2\n",
            "4\n",
            "6\n",
            "8\n",
            "10\n",
            "12\n",
            "14\n",
            "16\n",
            "18\n",
            "20\n",
            "22\n",
            "24\n",
            "26\n",
            "28\n",
            "30\n",
            "32\n",
            "34\n",
            "36\n",
            "38\n",
            "40\n",
            "42\n",
            "44\n",
            "46\n",
            "48\n",
            "50\n"
          ]
        }
      ]
    },
    {
      "cell_type": "code",
      "source": [
        "#6\n",
        "a = input(\"Enter Password \")\n",
        "password = \"forgotpassword\"\n",
        "if(a==password):\n",
        "  print(\"right!\")\n",
        "ask_pw()\n",
        "\n",
        "def ask_pw():\n",
        "  while(a != password):\n",
        "    b= input(\"Enter Password \")\n",
        "    if b == password:\n",
        "      break\n",
        "  print(\"Right!\")\n",
        "\n"
      ],
      "metadata": {
        "colab": {
          "base_uri": "https://localhost:8080/",
          "height": 0
        },
        "id": "LzW1WSOJhwT4",
        "outputId": "96d4d4dc-5acf-4b22-970b-9d46ea089dc9"
      },
      "execution_count": 19,
      "outputs": [
        {
          "output_type": "stream",
          "name": "stdout",
          "text": [
            "Enter Password aaaa\n",
            "Enter Passwordsforgotpassword\n",
            "Right!\n"
          ]
        }
      ]
    },
    {
      "cell_type": "code",
      "source": [
        "#7\n",
        "a = [1,2,3,4,5,6,7,8,9,10]\n",
        "def fun_1(a):\n",
        "  sum = 0\n",
        "  for i in a:\n",
        "    sum+=i\n",
        "  avg = sum/len(a)\n",
        "  print(avg)\n",
        "\n",
        "fun_1(a)\n",
        "\n"
      ],
      "metadata": {
        "colab": {
          "base_uri": "https://localhost:8080/",
          "height": 0
        },
        "id": "2OngCjurkBBV",
        "outputId": "995dd1b8-3b3e-4fdd-8395-24d363bad9e1"
      },
      "execution_count": 21,
      "outputs": [
        {
          "output_type": "stream",
          "name": "stdout",
          "text": [
            "5.5\n"
          ]
        }
      ]
    },
    {
      "cell_type": "code",
      "source": [
        "#8\n",
        "a = \"Symphony\"\n",
        "vov_count(a)\n",
        "def vov_count(a):\n",
        "  count = 0\n",
        "  for i in a:\n",
        "    if i.lower() in['a','e','i','o','u']:\n",
        "      count+=1\n",
        "  print(count)\n",
        "\n"
      ],
      "metadata": {
        "colab": {
          "base_uri": "https://localhost:8080/",
          "height": 0
        },
        "id": "OKaoyEayk0IE",
        "outputId": "15619ed4-1b5b-4962-e47a-ac96328eb918"
      },
      "execution_count": 24,
      "outputs": [
        {
          "output_type": "stream",
          "name": "stdout",
          "text": [
            "3\n"
          ]
        }
      ]
    },
    {
      "cell_type": "code",
      "source": [
        "#9\n",
        "import datetime\n",
        "x = datetime.datetime.now()\n",
        "print(x)"
      ],
      "metadata": {
        "colab": {
          "base_uri": "https://localhost:8080/",
          "height": 0
        },
        "id": "N1Qr0-Yjlef9",
        "outputId": "a2abab4c-6eb1-4e1f-9ec9-ce2af14787b3"
      },
      "execution_count": 26,
      "outputs": [
        {
          "output_type": "stream",
          "name": "stdout",
          "text": [
            "2024-03-14 10:53:21.741567\n"
          ]
        }
      ]
    },
    {
      "cell_type": "code",
      "source": [
        "#10\n",
        "a = 'five'\n",
        "b= 5\n",
        "try:\n",
        "  c=a+b\n",
        "except:\n",
        "  print(\"Values must be a number\")\n"
      ],
      "metadata": {
        "colab": {
          "base_uri": "https://localhost:8080/",
          "height": 0
        },
        "id": "v5lPW-hWlwyj",
        "outputId": "0d1f1cde-4ee8-4e32-fb23-1483dd7aaff5"
      },
      "execution_count": 30,
      "outputs": [
        {
          "output_type": "stream",
          "name": "stdout",
          "text": [
            "Values must be a number\n"
          ]
        }
      ]
    },
    {
      "cell_type": "code",
      "source": [
        "#11\n",
        "import math\n",
        "b = int(input(\"Enter a positive value\"))\n",
        "try:\n",
        "  print(f\"The square root of {b} is {math.sqrt(b)}\")\n",
        "\n",
        "except ValueError:\n",
        "  print(\"Enter a  positive number\")\n"
      ],
      "metadata": {
        "colab": {
          "base_uri": "https://localhost:8080/",
          "height": 0
        },
        "id": "UGx6jciElwYP",
        "outputId": "b293494c-ad0a-4081-9f08-2b8c361aaa32"
      },
      "execution_count": 42,
      "outputs": [
        {
          "output_type": "stream",
          "name": "stdout",
          "text": [
            "Enter a positive value-64\n",
            "Enter a  positive number\n"
          ]
        }
      ]
    },
    {
      "cell_type": "code",
      "source": [
        "#12\n",
        "\n",
        "a = 0\n",
        "b = 5\n",
        "try:\n",
        "  c=b/a\n",
        "except ZeroDivisionError:\n",
        "  print(\"Cannot divide by zero\")"
      ],
      "metadata": {
        "colab": {
          "base_uri": "https://localhost:8080/",
          "height": 0
        },
        "id": "PdAjpWJYlxnq",
        "outputId": "c00c27c0-1dc8-41b3-9f9c-e55a704dd643"
      },
      "execution_count": 28,
      "outputs": [
        {
          "output_type": "stream",
          "name": "stdout",
          "text": [
            "Cannot divide by zero\n"
          ]
        }
      ]
    },
    {
      "cell_type": "code",
      "source": [
        "#13\n",
        "\n",
        "a = open(\"text_1.txt\",'w')\n",
        "\n",
        "b = \"Hello, Python!\"\n",
        "a.writelines(b)\n",
        "a.close()\n"
      ],
      "metadata": {
        "id": "wqvDydpIl2xl"
      },
      "execution_count": 33,
      "outputs": []
    },
    {
      "cell_type": "code",
      "source": [
        "#14\n",
        "\n",
        "c = open(\"text_1.txt\",'r')\n",
        "print(c.read())"
      ],
      "metadata": {
        "colab": {
          "base_uri": "https://localhost:8080/",
          "height": 0
        },
        "id": "Q1Dqxz5Nn3Zp",
        "outputId": "bccf29e5-191e-4b63-ec79-55fec6cd89c2"
      },
      "execution_count": 49,
      "outputs": [
        {
          "output_type": "stream",
          "name": "stdout",
          "text": [
            "new LIne\n"
          ]
        }
      ]
    },
    {
      "cell_type": "code",
      "source": [
        "#15\n",
        "\n",
        "d = open(\"text_1.txt\",'w')\n",
        "e = \"new LIne\"\n",
        "d.writelines(e)\n",
        "d.close()\n",
        "f = open(\"text_1.txt\",'r')\n",
        "print(f.read())"
      ],
      "metadata": {
        "colab": {
          "base_uri": "https://localhost:8080/",
          "height": 0
        },
        "id": "Owf2KUWDpOlt",
        "outputId": "8b17ffd2-f301-43db-854b-ec8d9c1fba31"
      },
      "execution_count": 51,
      "outputs": [
        {
          "output_type": "stream",
          "name": "stdout",
          "text": [
            "new LIne\n"
          ]
        }
      ]
    },
    {
      "cell_type": "code",
      "source": [],
      "metadata": {
        "id": "qjzvnFegpmRy"
      },
      "execution_count": null,
      "outputs": []
    }
  ]
}